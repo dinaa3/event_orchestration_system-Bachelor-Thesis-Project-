{
  "cells": [
    {
      "cell_type": "code",
      "execution_count": null,
      "metadata": {
        "id": "velN0R9_qRYJ"
      },
      "outputs": [],
      "source": [
        "{\n",
        "  \"Comment\": \"State machine to process predictions and route to appropriate lambda functions.\",\n",
        "  \"StartAt\": \"EvaluatePrediction\",\n",
        "  \"States\": {\n",
        "    \"EvaluatePrediction\": {\n",
        "      \"Type\": \"Choice\",\n",
        "      \"Choices\": [\n",
        "        {\n",
        "          \"Variable\": \"$.predicted_source\",\n",
        "          \"StringEquals\": \"cloudshell.amazonaws.com\",\n",
        "          \"Next\": \"InvokeCloudShellFunction\"\n",
        "        },\n",
        "        {\n",
        "          \"Variable\": \"$.predicted_source\",\n",
        "          \"StringEquals\": \"ec2.amazonaws.com\",\n",
        "          \"Next\": \"InvokeEC2Function\"\n",
        "        },\n",
        "        {\n",
        "          \"Variable\": \"$.predicted_source\",\n",
        "          \"StringEquals\": \"cloudtrail.amazonaws.com\",\n",
        "          \"Next\": \"InvokeCloudTrailFunction\"\n",
        "        }\n",
        "      ],\n",
        "      \"Default\": \"HandleUnknownSource\"\n",
        "    },\n",
        "    \"InvokeCloudShellFunction\": {\n",
        "      \"Type\": \"Task\",\n",
        "      \"Resource\": \"arn:aws:lambda:us-east-1::function:CloudShellHandler\",\n",
        "      \"Parameters\": {\n",
        "        \"detail\": {\n",
        "          \"eventName.$\": \"$.event_name\"\n",
        "        }\n",
        "      },\n",
        "      \"ResultPath\": \"$.cloudshell_result\",\n",
        "      \"Next\": \"FinishWorkflow\"\n",
        "    },\n",
        "    \"InvokeEC2Function\": {\n",
        "      \"Type\": \"Task\",\n",
        "      \"Resource\": \"arn:aws:lambda:us-east-1::function:EC2Handler\",\n",
        "      \"Parameters\": {\n",
        "        \"detail\": {\n",
        "          \"eventName.$\": \"$.event_name\"\n",
        "        }\n",
        "      },\n",
        "      \"ResultPath\": \"$.ec2_result\",\n",
        "      \"Next\": \"FinishWorkflow\"\n",
        "    },\n",
        "    \"InvokeCloudTrailFunction\": {\n",
        "      \"Type\": \"Task\",\n",
        "      \"Resource\": \"arn:aws:lambda:us-east-1::function:CloudTrailHandler\",\n",
        "      \"Parameters\": {\n",
        "        \"detail\": {\n",
        "          \"eventName.$\": \"$.event_name\"\n",
        "        }\n",
        "      },\n",
        "      \"ResultPath\": \"$.cloudtrail_result\",\n",
        "      \"Next\": \"FinishWorkflow\"\n",
        "    },\n",
        "    \"HandleUnknownSource\": {\n",
        "      \"Type\": \"Fail\",\n",
        "      \"Error\": \"UnknownSourceError\",\n",
        "      \"Cause\": \"The predicted source is not recognized.\"\n",
        "    },\n",
        "    \"FinishWorkflow\": {\n",
        "      \"Type\": \"Succeed\"\n",
        "    }\n",
        "  }\n",
        "}"
      ]
    }
  ],
  "metadata": {
    "colab": {
      "provenance": []
    },
    "kernelspec": {
      "display_name": "Python 3",
      "name": "python3"
    },
    "language_info": {
      "name": "python"
    }
  },
  "nbformat": 4,
  "nbformat_minor": 0
}
